{
 "cells": [
  {
   "cell_type": "markdown",
   "metadata": {},
   "source": [
    "# Outlier"
   ]
  },
  {
   "cell_type": "code",
   "execution_count": 49,
   "metadata": {
    "scrolled": false
   },
   "outputs": [
    {
     "name": "stdout",
     "output_type": "stream",
     "text": [
      "Finish\n"
     ]
    }
   ],
   "source": [
    "import numpy as np\n",
    "import pandas as pd\n",
    "\n",
    "data_name = \"./model_youtube_crawling_data_game.csv\" #각자 데이터가 있는 위치\n",
    "df = pd.read_csv(data_name) #game에 해당하는 model 데이터\n",
    "\n",
    "#==================================================================\n",
    "# 이상치 제거 (IQR : Inter Quantile Range - 사분위 값의 편차를 이용)\n",
    "def removeOutliers(x):\n",
    "    # Q1, Q3구하기\n",
    "    q1 = x.quantile(0.25) \n",
    "    q3 = x.quantile(0.75)\n",
    "    iqr = q3 - q1\n",
    "    lower_bound = q1 - (iqr*1.5)\n",
    "    upper_bound = q3 + (iqr*1.5)\n",
    "    # 원래 데이터 복제\n",
    "    y = x\n",
    "    # 이상치를 NA로 변환\n",
    "    y[(x > upper_bound)|(x < lower_bound)] = np.nan\n",
    "    return x\n",
    "\n",
    "#==================================================================\n",
    "#함수 실행\n",
    "removeOutliers(df) # 이상치 제거 함수\n",
    "#df = df.dropna() # NA값 제거\n",
    "mean = df.mean().astype(int)\n",
    "df.fillna(mean,inplace=True)\n",
    "#print(df)\n",
    "df.to_csv('model_youtube_crawling_data_game_outlier_mean.csv',mode='w',encoding='utf-8-sig',index=False)\n",
    "print(\"Finish\")"
   ]
  },
  {
   "cell_type": "code",
   "execution_count": null,
   "metadata": {},
   "outputs": [],
   "source": [
    "import numpy as np\n",
    "import pandas as pd\n",
    "from sklearn import preprocessing\n",
    "\n",
    "data_name = \"./model_youtube_crawling_data_game.csv\" #각자 데이터가 있는 위치\n",
    "df = pd.read_csv(data_name) #game에 해당하는 model 데이터\n",
    "\n",
    "#==================================================================\n",
    "# 이상치 제거 (IQR : Inter Quantile Range - 사분위 값의 편차를 이용)\n",
    "def removeOutliers(x):\n",
    "    # Q1, Q3구하기\n",
    "    q1 = x.quantile(0.25) \n",
    "    q3 = x.quantile(0.75)  \n",
    "    iqr = q3 - q1\n",
    "    lower_bound = q1 - (iqr*1.5)\n",
    "    upper_bound = q3 + (iqr*1.5)\n",
    "    # 원래 데이터 복제\n",
    "    y = x\n",
    "    # 이상치를 NA로 변환\n",
    "    y[(x > upper_bound)|(x < lower_bound)] = None\n",
    "    return x\n",
    "\n",
    "#==================================================================\n",
    "#함수 실행\n",
    "removeOutliers(df) # 이상치 제거 함수\n",
    "df = df.dropna() # NA값 제거\n",
    "#print(df)\n",
    "df.to_csv('model_youtube_crawling_data_game_outlier.csv',mode='w',encoding='utf-8-sig',index=False)\n",
    "print(\"Finish\")"
   ]
  }
 ],
 "metadata": {
  "kernelspec": {
   "display_name": "Python 3",
   "language": "python",
   "name": "python3"
  },
  "language_info": {
   "codemirror_mode": {
    "name": "ipython",
    "version": 3
   },
   "file_extension": ".py",
   "mimetype": "text/x-python",
   "name": "python",
   "nbconvert_exporter": "python",
   "pygments_lexer": "ipython3",
   "version": "3.7.4"
  }
 },
 "nbformat": 4,
 "nbformat_minor": 2
}
